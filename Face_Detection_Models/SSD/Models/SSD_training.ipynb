version https://git-lfs.github.com/spec/v1
oid sha256:702f124a9f922fab499d3e4ba623bc2e7fc0c8d6d0ea5d544c66e8f7ca0106f6
size 6012
